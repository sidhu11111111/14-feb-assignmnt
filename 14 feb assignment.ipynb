{
 "cells": [
  {
   "cell_type": "markdown",
   "id": "878b9f13",
   "metadata": {},
   "source": [
    "#QNO.1 ANS\n",
    "Multithreading in Python refers to the concurrent execution of multiple threads within a single program. A thread is a separate flow of execution that can run concurrently with other threads within the same process. Python provides the threading module to support multithreading in programs. Multithreading is used to improve the performance of applications by executing multiple tasks concurrently, which can help to make the application more responsive and efficient.\n",
    "The threading module is used to handle threads in Python. It provides a simple way to create, start, and manage threads in a program.\n"
   ]
  },
  {
   "cell_type": "markdown",
   "id": "c6198e58",
   "metadata": {},
   "source": [
    "#QNO.2 ANS\n",
    "The following are the uses of some functions in the threading module:\n",
    "\n",
    "activeCount(): This function returns the number of active threads in the current process.\n",
    "currentThread(): This function returns a reference to the current thread object.\n",
    "enumerate(): This function returns a list of all thread objects that are currently active."
   ]
  },
  {
   "cell_type": "markdown",
   "id": "50bddbab",
   "metadata": {},
   "source": [
    "#QNO.3 ANS\n",
    "The following functions are used in the threading module:\n",
    "run(): This method is called by the thread to start its activity.\n",
    "start(): This method is used to start a thread’s activity.\n",
    "join(): This method is used to wait for a thread to terminate.\n",
    "isAlive(): This method returns true if the thread is currently executing."
   ]
  },
  {
   "cell_type": "markdown",
   "id": "b848be1f",
   "metadata": {},
   "source": [
    "#QNO.4 ANS"
   ]
  },
  {
   "cell_type": "code",
   "execution_count": 2,
   "id": "0e2d3c57",
   "metadata": {},
   "outputs": [],
   "source": [
    "import threading"
   ]
  },
  {
   "cell_type": "code",
   "execution_count": 4,
   "id": "169356ee",
   "metadata": {},
   "outputs": [
    {
     "name": "stdout",
     "output_type": "stream",
     "text": [
      "Square of 1: 1\n",
      "Square of 2: 4\n",
      "Square of 3: 9\n",
      "Square of 4: 16\n",
      "Square of 5: 25\n",
      "Square of 6: 36\n",
      "Square of 7: 49\n",
      "Square of 8: 64\n",
      "Square of 9: 81\n",
      "Square of 10: 100\n",
      "Cube of 1:1\n",
      "Cube of 2:8\n",
      "Cube of 3:27\n",
      "Cube of 4:64\n",
      "Cube of 5:125\n",
      "Cube of 6:216\n",
      "Cube of 7:343\n",
      "Cube of 8:512\n",
      "Cube of 9:729\n",
      "Cube of 10:1000\n"
     ]
    }
   ],
   "source": [
    "def print_squares():\n",
    "    for i in range(1,11):\n",
    "        print(f\"Square of {i}: {i*i}\")\n",
    "        \n",
    "def print_cubes():\n",
    "    for i in range(1,11):\n",
    "        print(f\"Cube of {i}:{i*i*i}\")\n",
    "        \n",
    "t1 = threading.Thread(target=print_squares)\n",
    "t2 = threading.Thread(target=print_cubes)\n",
    "\n",
    "t1.start()\n",
    "t2.start()\n",
    "\n",
    "t1.join()\n",
    "t2.join()"
   ]
  },
  {
   "cell_type": "markdown",
   "id": "0421f042",
   "metadata": {},
   "source": [
    "#QNO.5 ANS"
   ]
  },
  {
   "cell_type": "markdown",
   "id": "1e06ad94",
   "metadata": {},
   "source": [
    "Advantages of multithreading:\n",
    "Improved performance and faster execution of tasks\n",
    "Better utilization of system resources\n",
    "Better responsiveness and user experience\n",
    "Simplifies complex tasks by breaking them down into smaller sub-tasks\n",
    "Easy to implement in Python using the threading module\n",
    "Disadvantages of multithreading:\n",
    "\n",
    "Increased complexity and difficulty in debugging\n",
    "Synchronization issues such as deadlocks and race conditions\n",
    "Increased memory usage and overhead\n",
    "Difficulty in parallelizing certain tasks"
   ]
  },
  {
   "cell_type": "markdown",
   "id": "debbdaa6",
   "metadata": {},
   "source": [
    "#QNO.6 ANS"
   ]
  },
  {
   "cell_type": "markdown",
   "id": "1a2da698",
   "metadata": {},
   "source": [
    "Deadlocks and race conditions are two common issues that can occur in multithreaded programs.\n",
    "Deadlocks occur when two or more threads are blocked and waiting for each other to release resources that they need to continue executing. This can occur when multiple threads are competing for the same resources and become deadlocked.\n",
    "\n",
    "Race conditions occur when two or more threads access shared data at the same time, and the final outcome depends on the order in which the threads execute. This can lead to unpredictable behavior and errors in the program.\n",
    "\n",
    "To avoid deadlocks and race conditions, it's important to use synchronization mechanisms such as locks, semaphores, and barriers to coordinate the execution of threads and prevent conflicts over shared resources."
   ]
  },
  {
   "cell_type": "code",
   "execution_count": null,
   "id": "9fc71ed2",
   "metadata": {},
   "outputs": [],
   "source": []
  }
 ],
 "metadata": {
  "kernelspec": {
   "display_name": "Python 3 (ipykernel)",
   "language": "python",
   "name": "python3"
  },
  "language_info": {
   "codemirror_mode": {
    "name": "ipython",
    "version": 3
   },
   "file_extension": ".py",
   "mimetype": "text/x-python",
   "name": "python",
   "nbconvert_exporter": "python",
   "pygments_lexer": "ipython3",
   "version": "3.9.13"
  }
 },
 "nbformat": 4,
 "nbformat_minor": 5
}
